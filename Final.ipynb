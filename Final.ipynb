{
 "cells": [
  {
   "cell_type": "code",
   "execution_count": 1,
   "metadata": {},
   "outputs": [
    {
     "name": "stderr",
     "output_type": "stream",
     "text": [
      "── \u001b[1mAttaching packages\u001b[22m ─────────────────────────────────────── tidyverse 1.3.0 ──\n",
      "\n",
      "\u001b[32m✔\u001b[39m \u001b[34mggplot2\u001b[39m 3.3.2     \u001b[32m✔\u001b[39m \u001b[34mpurrr  \u001b[39m 0.3.4\n",
      "\u001b[32m✔\u001b[39m \u001b[34mtibble \u001b[39m 3.0.3     \u001b[32m✔\u001b[39m \u001b[34mdplyr  \u001b[39m 1.0.2\n",
      "\u001b[32m✔\u001b[39m \u001b[34mtidyr  \u001b[39m 1.1.2     \u001b[32m✔\u001b[39m \u001b[34mstringr\u001b[39m 1.4.0\n",
      "\u001b[32m✔\u001b[39m \u001b[34mreadr  \u001b[39m 1.3.1     \u001b[32m✔\u001b[39m \u001b[34mforcats\u001b[39m 0.5.0\n",
      "\n",
      "Warning message:\n",
      "“package ‘ggplot2’ was built under R version 4.0.1”\n",
      "Warning message:\n",
      "“package ‘tibble’ was built under R version 4.0.2”\n",
      "Warning message:\n",
      "“package ‘tidyr’ was built under R version 4.0.2”\n",
      "Warning message:\n",
      "“package ‘dplyr’ was built under R version 4.0.2”\n",
      "── \u001b[1mConflicts\u001b[22m ────────────────────────────────────────── tidyverse_conflicts() ──\n",
      "\u001b[31m✖\u001b[39m \u001b[34mdplyr\u001b[39m::\u001b[32mfilter()\u001b[39m masks \u001b[34mstats\u001b[39m::filter()\n",
      "\u001b[31m✖\u001b[39m \u001b[34mdplyr\u001b[39m::\u001b[32mlag()\u001b[39m    masks \u001b[34mstats\u001b[39m::lag()\n",
      "\n",
      "Warning message:\n",
      "“package ‘tidymodels’ was built under R version 4.0.2”\n",
      "── \u001b[1mAttaching packages\u001b[22m ────────────────────────────────────── tidymodels 0.1.1 ──\n",
      "\n",
      "\u001b[32m✔\u001b[39m \u001b[34mbroom    \u001b[39m 0.7.0      \u001b[32m✔\u001b[39m \u001b[34mrecipes  \u001b[39m 0.1.13\n",
      "\u001b[32m✔\u001b[39m \u001b[34mdials    \u001b[39m 0.0.9      \u001b[32m✔\u001b[39m \u001b[34mrsample  \u001b[39m 0.0.7 \n",
      "\u001b[32m✔\u001b[39m \u001b[34minfer    \u001b[39m 0.5.4      \u001b[32m✔\u001b[39m \u001b[34mtune     \u001b[39m 0.1.1 \n",
      "\u001b[32m✔\u001b[39m \u001b[34mmodeldata\u001b[39m 0.0.2      \u001b[32m✔\u001b[39m \u001b[34mworkflows\u001b[39m 0.2.0 \n",
      "\u001b[32m✔\u001b[39m \u001b[34mparsnip  \u001b[39m 0.1.3      \u001b[32m✔\u001b[39m \u001b[34myardstick\u001b[39m 0.0.7 \n",
      "\n",
      "Warning message:\n",
      "“package ‘broom’ was built under R version 4.0.2”\n",
      "Warning message:\n",
      "“package ‘dials’ was built under R version 4.0.2”\n",
      "Warning message:\n",
      "“package ‘infer’ was built under R version 4.0.3”\n",
      "Warning message:\n",
      "“package ‘modeldata’ was built under R version 4.0.1”\n",
      "Warning message:\n",
      "“package ‘parsnip’ was built under R version 4.0.2”\n",
      "Warning message:\n",
      "“package ‘recipes’ was built under R version 4.0.1”\n",
      "Warning message:\n",
      "“package ‘tune’ was built under R version 4.0.2”\n",
      "Warning message:\n",
      "“package ‘workflows’ was built under R version 4.0.2”\n",
      "Warning message:\n",
      "“package ‘yardstick’ was built under R version 4.0.2”\n",
      "── \u001b[1mConflicts\u001b[22m ───────────────────────────────────────── tidymodels_conflicts() ──\n",
      "\u001b[31m✖\u001b[39m \u001b[34mscales\u001b[39m::\u001b[32mdiscard()\u001b[39m masks \u001b[34mpurrr\u001b[39m::discard()\n",
      "\u001b[31m✖\u001b[39m \u001b[34mdplyr\u001b[39m::\u001b[32mfilter()\u001b[39m   masks \u001b[34mstats\u001b[39m::filter()\n",
      "\u001b[31m✖\u001b[39m \u001b[34mrecipes\u001b[39m::\u001b[32mfixed()\u001b[39m  masks \u001b[34mstringr\u001b[39m::fixed()\n",
      "\u001b[31m✖\u001b[39m \u001b[34mdplyr\u001b[39m::\u001b[32mlag()\u001b[39m      masks \u001b[34mstats\u001b[39m::lag()\n",
      "\u001b[31m✖\u001b[39m \u001b[34myardstick\u001b[39m::\u001b[32mspec()\u001b[39m masks \u001b[34mreadr\u001b[39m::spec()\n",
      "\u001b[31m✖\u001b[39m \u001b[34mrecipes\u001b[39m::\u001b[32mstep()\u001b[39m   masks \u001b[34mstats\u001b[39m::step()\n",
      "\n"
     ]
    }
   ],
   "source": [
    "set.seed(624) #ONLY WRITE THIS ONCE\n",
    "\n",
    "library(tidyverse)\n",
    "library(dplyr)\n",
    "library(repr)\n",
    "library(tidymodels)\n",
    "library(repr)\n",
    "library(tidymodels)"
   ]
  },
  {
   "cell_type": "code",
   "execution_count": 3,
   "metadata": {},
   "outputs": [
    {
     "name": "stderr",
     "output_type": "stream",
     "text": [
      "Parsed with column specification:\n",
      "cols(\n",
      "  .default = col_character(),\n",
      "  X4 = \u001b[33mcol_logical()\u001b[39m,\n",
      "  X6 = \u001b[33mcol_logical()\u001b[39m,\n",
      "  X8 = \u001b[33mcol_logical()\u001b[39m,\n",
      "  X10 = \u001b[33mcol_logical()\u001b[39m,\n",
      "  X12 = \u001b[33mcol_logical()\u001b[39m,\n",
      "  X14 = \u001b[33mcol_logical()\u001b[39m,\n",
      "  X16 = \u001b[33mcol_logical()\u001b[39m,\n",
      "  X18 = \u001b[33mcol_logical()\u001b[39m,\n",
      "  X20 = \u001b[33mcol_logical()\u001b[39m,\n",
      "  X22 = \u001b[33mcol_logical()\u001b[39m,\n",
      "  X24 = \u001b[33mcol_logical()\u001b[39m,\n",
      "  X26 = \u001b[33mcol_logical()\u001b[39m,\n",
      "  X28 = \u001b[33mcol_logical()\u001b[39m,\n",
      "  X30 = \u001b[33mcol_logical()\u001b[39m,\n",
      "  X32 = \u001b[33mcol_logical()\u001b[39m,\n",
      "  X34 = \u001b[33mcol_logical()\u001b[39m,\n",
      "  X36 = \u001b[33mcol_logical()\u001b[39m,\n",
      "  X38 = \u001b[33mcol_logical()\u001b[39m,\n",
      "  X40 = \u001b[33mcol_logical()\u001b[39m,\n",
      "  X42 = \u001b[33mcol_logical()\u001b[39m\n",
      "  # ... with 9 more columns\n",
      ")\n",
      "\n",
      "See spec(...) for full column specifications.\n",
      "\n"
     ]
    },
    {
     "data": {
      "text/html": [
       "<table>\n",
       "<caption>A tibble: 194 × 62</caption>\n",
       "<thead>\n",
       "\t<tr><th scope=col>X1</th><th scope=col>X2</th><th scope=col>X3</th><th scope=col>X4</th><th scope=col>X5</th><th scope=col>X6</th><th scope=col>X7</th><th scope=col>X8</th><th scope=col>X9</th><th scope=col>X10</th><th scope=col>⋯</th><th scope=col>X53</th><th scope=col>X54</th><th scope=col>X55</th><th scope=col>X56</th><th scope=col>X57</th><th scope=col>X58</th><th scope=col>X59</th><th scope=col>X60</th><th scope=col>X61</th><th scope=col>X62</th></tr>\n",
       "\t<tr><th scope=col>&lt;chr&gt;</th><th scope=col>&lt;chr&gt;</th><th scope=col>&lt;chr&gt;</th><th scope=col>&lt;lgl&gt;</th><th scope=col>&lt;chr&gt;</th><th scope=col>&lt;lgl&gt;</th><th scope=col>&lt;chr&gt;</th><th scope=col>&lt;lgl&gt;</th><th scope=col>&lt;chr&gt;</th><th scope=col>&lt;lgl&gt;</th><th scope=col>⋯</th><th scope=col>&lt;chr&gt;</th><th scope=col>&lt;lgl&gt;</th><th scope=col>&lt;chr&gt;</th><th scope=col>&lt;lgl&gt;</th><th scope=col>&lt;chr&gt;</th><th scope=col>&lt;lgl&gt;</th><th scope=col>&lt;chr&gt;</th><th scope=col>&lt;lgl&gt;</th><th scope=col>&lt;chr&gt;</th><th scope=col>&lt;chr&gt;</th></tr>\n",
       "</thead>\n",
       "<tbody>\n",
       "\t<tr><td>HDI Rank</td><td>Country    </td><td>1990</td><td>NA</td><td>1991</td><td>NA</td><td>1992</td><td>NA</td><td>1993</td><td>NA</td><td>⋯</td><td>2015</td><td>NA</td><td>2016</td><td>NA</td><td>2017</td><td>NA</td><td>2018</td><td>NA</td><td>2019</td><td>NA</td></tr>\n",
       "\t<tr><td>169     </td><td>Afghanistan</td><td>2.6 </td><td>NA</td><td>2.9 </td><td>NA</td><td>3.2 </td><td>NA</td><td>3.6 </td><td>NA</td><td>⋯</td><td>10.2</td><td>NA</td><td>10.3</td><td>NA</td><td>10.1</td><td>NA</td><td>10.1</td><td>NA</td><td>10.2</td><td>a </td></tr>\n",
       "\t<tr><td>69      </td><td>Albania    </td><td>11.6</td><td>NA</td><td>11.8</td><td>NA</td><td>10.7</td><td>NA</td><td>10.1</td><td>NA</td><td>⋯</td><td>15.1</td><td>NA</td><td>14.8</td><td>NA</td><td>14.8</td><td>NA</td><td>14.7</td><td>NA</td><td>14.7</td><td>a </td></tr>\n",
       "\t<tr><td>91      </td><td>Algeria    </td><td>9.6 </td><td>NA</td><td>9.7 </td><td>NA</td><td>9.8 </td><td>NA</td><td>9.8 </td><td>NA</td><td>⋯</td><td>14.2</td><td>NA</td><td>14.2</td><td>NA</td><td>14.4</td><td>NA</td><td>14.5</td><td>NA</td><td>14.6</td><td>a </td></tr>\n",
       "\t<tr><td>⋮</td><td>⋮</td><td>⋮</td><td>⋮</td><td>⋮</td><td>⋮</td><td>⋮</td><td>⋮</td><td>⋮</td><td>⋮</td><td>⋱</td><td>⋮</td><td>⋮</td><td>⋮</td><td>⋮</td><td>⋮</td><td>⋮</td><td>⋮</td><td>⋮</td><td>⋮</td><td>⋮</td></tr>\n",
       "\t<tr><td>117</td><td>Viet Nam</td><td>7.8</td><td>NA</td><td>8.1 </td><td>NA</td><td>8.4</td><td>NA</td><td>8.7</td><td>NA</td><td>⋯</td><td>12.7</td><td>NA</td><td>12.7</td><td>NA</td><td>12.7</td><td>NA</td><td>12.7</td><td>NA</td><td>12.7</td><td>a,d</td></tr>\n",
       "\t<tr><td>179</td><td>Yemen   </td><td>7.5</td><td>NA</td><td>7.5 </td><td>NA</td><td>7.6</td><td>NA</td><td>7.6</td><td>NA</td><td>⋯</td><td>8.7 </td><td>NA</td><td>8.7 </td><td>NA</td><td>8.7 </td><td>NA</td><td>8.7 </td><td>NA</td><td>8.8 </td><td>a,d</td></tr>\n",
       "\t<tr><td>146</td><td>Zambia  </td><td>7.5</td><td>NA</td><td>7.7 </td><td>NA</td><td>8.0</td><td>NA</td><td>8.2</td><td>NA</td><td>⋯</td><td>11.1</td><td>NA</td><td>11.2</td><td>NA</td><td>11.3</td><td>NA</td><td>11.4</td><td>NA</td><td>11.5</td><td>a,c</td></tr>\n",
       "\t<tr><td>150</td><td>Zimbabwe</td><td>9.8</td><td>NA</td><td>10.2</td><td>NA</td><td>9.8</td><td>NA</td><td>9.8</td><td>NA</td><td>⋯</td><td>10.3</td><td>NA</td><td>10.4</td><td>NA</td><td>10.5</td><td>NA</td><td>10.5</td><td>NA</td><td>11.0</td><td>a,h</td></tr>\n",
       "</tbody>\n",
       "</table>\n"
      ],
      "text/latex": [
       "A tibble: 194 × 62\n",
       "\\begin{tabular}{lllllllllllllllllllll}\n",
       " X1 & X2 & X3 & X4 & X5 & X6 & X7 & X8 & X9 & X10 & ⋯ & X53 & X54 & X55 & X56 & X57 & X58 & X59 & X60 & X61 & X62\\\\\n",
       " <chr> & <chr> & <chr> & <lgl> & <chr> & <lgl> & <chr> & <lgl> & <chr> & <lgl> & ⋯ & <chr> & <lgl> & <chr> & <lgl> & <chr> & <lgl> & <chr> & <lgl> & <chr> & <chr>\\\\\n",
       "\\hline\n",
       "\t HDI Rank & Country     & 1990 & NA & 1991 & NA & 1992 & NA & 1993 & NA & ⋯ & 2015 & NA & 2016 & NA & 2017 & NA & 2018 & NA & 2019 & NA\\\\\n",
       "\t 169      & Afghanistan & 2.6  & NA & 2.9  & NA & 3.2  & NA & 3.6  & NA & ⋯ & 10.2 & NA & 10.3 & NA & 10.1 & NA & 10.1 & NA & 10.2 & a \\\\\n",
       "\t 69       & Albania     & 11.6 & NA & 11.8 & NA & 10.7 & NA & 10.1 & NA & ⋯ & 15.1 & NA & 14.8 & NA & 14.8 & NA & 14.7 & NA & 14.7 & a \\\\\n",
       "\t 91       & Algeria     & 9.6  & NA & 9.7  & NA & 9.8  & NA & 9.8  & NA & ⋯ & 14.2 & NA & 14.2 & NA & 14.4 & NA & 14.5 & NA & 14.6 & a \\\\\n",
       "\t ⋮ & ⋮ & ⋮ & ⋮ & ⋮ & ⋮ & ⋮ & ⋮ & ⋮ & ⋮ & ⋱ & ⋮ & ⋮ & ⋮ & ⋮ & ⋮ & ⋮ & ⋮ & ⋮ & ⋮ & ⋮\\\\\n",
       "\t 117 & Viet Nam & 7.8 & NA & 8.1  & NA & 8.4 & NA & 8.7 & NA & ⋯ & 12.7 & NA & 12.7 & NA & 12.7 & NA & 12.7 & NA & 12.7 & a,d\\\\\n",
       "\t 179 & Yemen    & 7.5 & NA & 7.5  & NA & 7.6 & NA & 7.6 & NA & ⋯ & 8.7  & NA & 8.7  & NA & 8.7  & NA & 8.7  & NA & 8.8  & a,d\\\\\n",
       "\t 146 & Zambia   & 7.5 & NA & 7.7  & NA & 8.0 & NA & 8.2 & NA & ⋯ & 11.1 & NA & 11.2 & NA & 11.3 & NA & 11.4 & NA & 11.5 & a,c\\\\\n",
       "\t 150 & Zimbabwe & 9.8 & NA & 10.2 & NA & 9.8 & NA & 9.8 & NA & ⋯ & 10.3 & NA & 10.4 & NA & 10.5 & NA & 10.5 & NA & 11.0 & a,h\\\\\n",
       "\\end{tabular}\n"
      ],
      "text/markdown": [
       "\n",
       "A tibble: 194 × 62\n",
       "\n",
       "| X1 &lt;chr&gt; | X2 &lt;chr&gt; | X3 &lt;chr&gt; | X4 &lt;lgl&gt; | X5 &lt;chr&gt; | X6 &lt;lgl&gt; | X7 &lt;chr&gt; | X8 &lt;lgl&gt; | X9 &lt;chr&gt; | X10 &lt;lgl&gt; | ⋯ ⋯ | X53 &lt;chr&gt; | X54 &lt;lgl&gt; | X55 &lt;chr&gt; | X56 &lt;lgl&gt; | X57 &lt;chr&gt; | X58 &lt;lgl&gt; | X59 &lt;chr&gt; | X60 &lt;lgl&gt; | X61 &lt;chr&gt; | X62 &lt;chr&gt; |\n",
       "|---|---|---|---|---|---|---|---|---|---|---|---|---|---|---|---|---|---|---|---|---|\n",
       "| HDI Rank | Country     | 1990 | NA | 1991 | NA | 1992 | NA | 1993 | NA | ⋯ | 2015 | NA | 2016 | NA | 2017 | NA | 2018 | NA | 2019 | NA |\n",
       "| 169      | Afghanistan | 2.6  | NA | 2.9  | NA | 3.2  | NA | 3.6  | NA | ⋯ | 10.2 | NA | 10.3 | NA | 10.1 | NA | 10.1 | NA | 10.2 | a  |\n",
       "| 69       | Albania     | 11.6 | NA | 11.8 | NA | 10.7 | NA | 10.1 | NA | ⋯ | 15.1 | NA | 14.8 | NA | 14.8 | NA | 14.7 | NA | 14.7 | a  |\n",
       "| 91       | Algeria     | 9.6  | NA | 9.7  | NA | 9.8  | NA | 9.8  | NA | ⋯ | 14.2 | NA | 14.2 | NA | 14.4 | NA | 14.5 | NA | 14.6 | a  |\n",
       "| ⋮ | ⋮ | ⋮ | ⋮ | ⋮ | ⋮ | ⋮ | ⋮ | ⋮ | ⋮ | ⋱ | ⋮ | ⋮ | ⋮ | ⋮ | ⋮ | ⋮ | ⋮ | ⋮ | ⋮ | ⋮ |\n",
       "| 117 | Viet Nam | 7.8 | NA | 8.1  | NA | 8.4 | NA | 8.7 | NA | ⋯ | 12.7 | NA | 12.7 | NA | 12.7 | NA | 12.7 | NA | 12.7 | a,d |\n",
       "| 179 | Yemen    | 7.5 | NA | 7.5  | NA | 7.6 | NA | 7.6 | NA | ⋯ | 8.7  | NA | 8.7  | NA | 8.7  | NA | 8.7  | NA | 8.8  | a,d |\n",
       "| 146 | Zambia   | 7.5 | NA | 7.7  | NA | 8.0 | NA | 8.2 | NA | ⋯ | 11.1 | NA | 11.2 | NA | 11.3 | NA | 11.4 | NA | 11.5 | a,c |\n",
       "| 150 | Zimbabwe | 9.8 | NA | 10.2 | NA | 9.8 | NA | 9.8 | NA | ⋯ | 10.3 | NA | 10.4 | NA | 10.5 | NA | 10.5 | NA | 11.0 | a,h |\n",
       "\n"
      ],
      "text/plain": [
       "    X1       X2          X3   X4 X5   X6 X7   X8 X9   X10 ⋯ X53  X54 X55  X56\n",
       "1   HDI Rank Country     1990 NA 1991 NA 1992 NA 1993 NA  ⋯ 2015 NA  2016 NA \n",
       "2   169      Afghanistan 2.6  NA 2.9  NA 3.2  NA 3.6  NA  ⋯ 10.2 NA  10.3 NA \n",
       "3   69       Albania     11.6 NA 11.8 NA 10.7 NA 10.1 NA  ⋯ 15.1 NA  14.8 NA \n",
       "4   91       Algeria     9.6  NA 9.7  NA 9.8  NA 9.8  NA  ⋯ 14.2 NA  14.2 NA \n",
       "⋮   ⋮        ⋮           ⋮    ⋮  ⋮    ⋮  ⋮    ⋮  ⋮    ⋮   ⋱ ⋮    ⋮   ⋮    ⋮  \n",
       "191 117      Viet Nam    7.8  NA 8.1  NA 8.4  NA 8.7  NA  ⋯ 12.7 NA  12.7 NA \n",
       "192 179      Yemen       7.5  NA 7.5  NA 7.6  NA 7.6  NA  ⋯ 8.7  NA  8.7  NA \n",
       "193 146      Zambia      7.5  NA 7.7  NA 8.0  NA 8.2  NA  ⋯ 11.1 NA  11.2 NA \n",
       "194 150      Zimbabwe    9.8  NA 10.2 NA 9.8  NA 9.8  NA  ⋯ 10.3 NA  10.4 NA \n",
       "    X57  X58 X59  X60 X61  X62\n",
       "1   2017 NA  2018 NA  2019 NA \n",
       "2   10.1 NA  10.1 NA  10.2 a  \n",
       "3   14.8 NA  14.7 NA  14.7 a  \n",
       "4   14.4 NA  14.5 NA  14.6 a  \n",
       "⋮   ⋮    ⋮   ⋮    ⋮   ⋮    ⋮  \n",
       "191 12.7 NA  12.7 NA  12.7 a,d\n",
       "192 8.7  NA  8.7  NA  8.8  a,d\n",
       "193 11.3 NA  11.4 NA  11.5 a,c\n",
       "194 10.5 NA  10.5 NA  11.0 a,h"
      ]
     },
     "metadata": {},
     "output_type": "display_data"
    }
   ],
   "source": [
    "options(repr.matrix.max.rows= 8)\n",
    "\n",
    "Expected_Years_of_Schooling_vs_HDI<- read_tsv(\"https://raw.githubusercontent.com/MarranaTT/Group_46_Final_Project/main/Expected_years%20of%20schooling_(years).tsv\",\n",
    "    col_names = FALSE, skip =6)%>%\n",
    "    slice(1:(n()-9))%>%\n",
    "        select(X1:X62)%>%\n",
    "        filter(X1 != \"NA\")\n",
    "Expected_Years_of_Schooling_vs_HDI\n",
    "\n",
    "\n",
    "#The raw data was read in, and edited so that it had a structure from which we could start to make it tidy. \n",
    "\n",
    "# The data alterations included skipping/getting rid of rows, choosing only certain columns, \n",
    "# an excluding any values that were not pertinent to our analysis."
   ]
  },
  {
   "cell_type": "markdown",
   "metadata": {},
   "source": [
    "The data table presented above is the result of reading in our HDI and Years of Schooling Data from the respective data source. The data is not tidy because although each value is a single cell, each row is not a single observation and each column is not a single variable. \n",
    "\n",
    "The col_names argument was given the logical statement FALSE as there are no column names in the original dataframe. The last 9 rows were then omitted using the slice function, which was followed by selecting the first 62 columns of the dataframe, and then deleting any NA values found within the first row since this will ensure that only country names are found in the first row (no invalid \"values\"). "
   ]
  },
  {
   "cell_type": "code",
   "execution_count": 8,
   "metadata": {},
   "outputs": [
    {
     "data": {
      "text/html": [
       "<table>\n",
       "<caption>A tibble: 194 × 33</caption>\n",
       "<thead>\n",
       "\t<tr><th scope=col>X1</th><th scope=col>X2</th><th scope=col>X3</th><th scope=col>X5</th><th scope=col>X7</th><th scope=col>X9</th><th scope=col>X11</th><th scope=col>X13</th><th scope=col>X15</th><th scope=col>X17</th><th scope=col>⋯</th><th scope=col>X45</th><th scope=col>X47</th><th scope=col>X49</th><th scope=col>X51</th><th scope=col>X53</th><th scope=col>X55</th><th scope=col>X57</th><th scope=col>X59</th><th scope=col>X61</th><th scope=col>X62</th></tr>\n",
       "\t<tr><th scope=col>&lt;chr&gt;</th><th scope=col>&lt;chr&gt;</th><th scope=col>&lt;chr&gt;</th><th scope=col>&lt;chr&gt;</th><th scope=col>&lt;chr&gt;</th><th scope=col>&lt;chr&gt;</th><th scope=col>&lt;chr&gt;</th><th scope=col>&lt;chr&gt;</th><th scope=col>&lt;chr&gt;</th><th scope=col>&lt;chr&gt;</th><th scope=col>⋯</th><th scope=col>&lt;chr&gt;</th><th scope=col>&lt;chr&gt;</th><th scope=col>&lt;chr&gt;</th><th scope=col>&lt;chr&gt;</th><th scope=col>&lt;chr&gt;</th><th scope=col>&lt;chr&gt;</th><th scope=col>&lt;chr&gt;</th><th scope=col>&lt;chr&gt;</th><th scope=col>&lt;chr&gt;</th><th scope=col>&lt;chr&gt;</th></tr>\n",
       "</thead>\n",
       "<tbody>\n",
       "\t<tr><td>HDI Rank</td><td>Country    </td><td>1990</td><td>1991</td><td>1992</td><td>1993</td><td>1994</td><td>1995</td><td>1996</td><td>1997</td><td>⋯</td><td>2011</td><td>2012</td><td>2013</td><td>2014</td><td>2015</td><td>2016</td><td>2017</td><td>2018</td><td>2019</td><td>NA</td></tr>\n",
       "\t<tr><td>169     </td><td>Afghanistan</td><td>2.6 </td><td>2.9 </td><td>3.2 </td><td>3.6 </td><td>3.9 </td><td>4.2 </td><td>4.6 </td><td>4.9 </td><td>⋯</td><td>9.5 </td><td>10.0</td><td>10.2</td><td>10.3</td><td>10.2</td><td>10.3</td><td>10.1</td><td>10.1</td><td>10.2</td><td>a </td></tr>\n",
       "\t<tr><td>69      </td><td>Albania    </td><td>11.6</td><td>11.8</td><td>10.7</td><td>10.1</td><td>10.1</td><td>10.2</td><td>10.2</td><td>10.5</td><td>⋯</td><td>13.7</td><td>14.6</td><td>14.9</td><td>15.3</td><td>15.1</td><td>14.8</td><td>14.8</td><td>14.7</td><td>14.7</td><td>a </td></tr>\n",
       "\t<tr><td>91      </td><td>Algeria    </td><td>9.6 </td><td>9.7 </td><td>9.8 </td><td>9.8 </td><td>9.9 </td><td>9.8 </td><td>10.0</td><td>10.3</td><td>⋯</td><td>14.3</td><td>13.9</td><td>13.6</td><td>14.0</td><td>14.2</td><td>14.2</td><td>14.4</td><td>14.5</td><td>14.6</td><td>a </td></tr>\n",
       "\t<tr><td>⋮</td><td>⋮</td><td>⋮</td><td>⋮</td><td>⋮</td><td>⋮</td><td>⋮</td><td>⋮</td><td>⋮</td><td>⋮</td><td>⋱</td><td>⋮</td><td>⋮</td><td>⋮</td><td>⋮</td><td>⋮</td><td>⋮</td><td>⋮</td><td>⋮</td><td>⋮</td><td>⋮</td></tr>\n",
       "\t<tr><td>117</td><td>Viet Nam</td><td>7.8</td><td>8.1 </td><td>8.4</td><td>8.7</td><td>9.0</td><td>9.3</td><td>9.6</td><td>9.0</td><td>⋯</td><td>12.5</td><td>12.6</td><td>12.6</td><td>12.7</td><td>12.7</td><td>12.7</td><td>12.7</td><td>12.7</td><td>12.7</td><td>a,d</td></tr>\n",
       "\t<tr><td>179</td><td>Yemen   </td><td>7.5</td><td>7.5 </td><td>7.6</td><td>7.6</td><td>7.6</td><td>7.6</td><td>7.6</td><td>7.6</td><td>⋯</td><td>9.0 </td><td>8.5 </td><td>8.8 </td><td>8.7 </td><td>8.7 </td><td>8.7 </td><td>8.7 </td><td>8.7 </td><td>8.8 </td><td>a,d</td></tr>\n",
       "\t<tr><td>146</td><td>Zambia  </td><td>7.5</td><td>7.7 </td><td>8.0</td><td>8.2</td><td>8.4</td><td>8.7</td><td>8.9</td><td>9.1</td><td>⋯</td><td>10.9</td><td>10.9</td><td>11.0</td><td>11.0</td><td>11.1</td><td>11.2</td><td>11.3</td><td>11.4</td><td>11.5</td><td>a,c</td></tr>\n",
       "\t<tr><td>150</td><td>Zimbabwe</td><td>9.8</td><td>10.2</td><td>9.8</td><td>9.8</td><td>9.8</td><td>9.8</td><td>9.8</td><td>9.8</td><td>⋯</td><td>10.2</td><td>10.3</td><td>10.2</td><td>10.3</td><td>10.3</td><td>10.4</td><td>10.5</td><td>10.5</td><td>11.0</td><td>a,h</td></tr>\n",
       "</tbody>\n",
       "</table>\n"
      ],
      "text/latex": [
       "A tibble: 194 × 33\n",
       "\\begin{tabular}{lllllllllllllllllllll}\n",
       " X1 & X2 & X3 & X5 & X7 & X9 & X11 & X13 & X15 & X17 & ⋯ & X45 & X47 & X49 & X51 & X53 & X55 & X57 & X59 & X61 & X62\\\\\n",
       " <chr> & <chr> & <chr> & <chr> & <chr> & <chr> & <chr> & <chr> & <chr> & <chr> & ⋯ & <chr> & <chr> & <chr> & <chr> & <chr> & <chr> & <chr> & <chr> & <chr> & <chr>\\\\\n",
       "\\hline\n",
       "\t HDI Rank & Country     & 1990 & 1991 & 1992 & 1993 & 1994 & 1995 & 1996 & 1997 & ⋯ & 2011 & 2012 & 2013 & 2014 & 2015 & 2016 & 2017 & 2018 & 2019 & NA\\\\\n",
       "\t 169      & Afghanistan & 2.6  & 2.9  & 3.2  & 3.6  & 3.9  & 4.2  & 4.6  & 4.9  & ⋯ & 9.5  & 10.0 & 10.2 & 10.3 & 10.2 & 10.3 & 10.1 & 10.1 & 10.2 & a \\\\\n",
       "\t 69       & Albania     & 11.6 & 11.8 & 10.7 & 10.1 & 10.1 & 10.2 & 10.2 & 10.5 & ⋯ & 13.7 & 14.6 & 14.9 & 15.3 & 15.1 & 14.8 & 14.8 & 14.7 & 14.7 & a \\\\\n",
       "\t 91       & Algeria     & 9.6  & 9.7  & 9.8  & 9.8  & 9.9  & 9.8  & 10.0 & 10.3 & ⋯ & 14.3 & 13.9 & 13.6 & 14.0 & 14.2 & 14.2 & 14.4 & 14.5 & 14.6 & a \\\\\n",
       "\t ⋮ & ⋮ & ⋮ & ⋮ & ⋮ & ⋮ & ⋮ & ⋮ & ⋮ & ⋮ & ⋱ & ⋮ & ⋮ & ⋮ & ⋮ & ⋮ & ⋮ & ⋮ & ⋮ & ⋮ & ⋮\\\\\n",
       "\t 117 & Viet Nam & 7.8 & 8.1  & 8.4 & 8.7 & 9.0 & 9.3 & 9.6 & 9.0 & ⋯ & 12.5 & 12.6 & 12.6 & 12.7 & 12.7 & 12.7 & 12.7 & 12.7 & 12.7 & a,d\\\\\n",
       "\t 179 & Yemen    & 7.5 & 7.5  & 7.6 & 7.6 & 7.6 & 7.6 & 7.6 & 7.6 & ⋯ & 9.0  & 8.5  & 8.8  & 8.7  & 8.7  & 8.7  & 8.7  & 8.7  & 8.8  & a,d\\\\\n",
       "\t 146 & Zambia   & 7.5 & 7.7  & 8.0 & 8.2 & 8.4 & 8.7 & 8.9 & 9.1 & ⋯ & 10.9 & 10.9 & 11.0 & 11.0 & 11.1 & 11.2 & 11.3 & 11.4 & 11.5 & a,c\\\\\n",
       "\t 150 & Zimbabwe & 9.8 & 10.2 & 9.8 & 9.8 & 9.8 & 9.8 & 9.8 & 9.8 & ⋯ & 10.2 & 10.3 & 10.2 & 10.3 & 10.3 & 10.4 & 10.5 & 10.5 & 11.0 & a,h\\\\\n",
       "\\end{tabular}\n"
      ],
      "text/markdown": [
       "\n",
       "A tibble: 194 × 33\n",
       "\n",
       "| X1 &lt;chr&gt; | X2 &lt;chr&gt; | X3 &lt;chr&gt; | X5 &lt;chr&gt; | X7 &lt;chr&gt; | X9 &lt;chr&gt; | X11 &lt;chr&gt; | X13 &lt;chr&gt; | X15 &lt;chr&gt; | X17 &lt;chr&gt; | ⋯ ⋯ | X45 &lt;chr&gt; | X47 &lt;chr&gt; | X49 &lt;chr&gt; | X51 &lt;chr&gt; | X53 &lt;chr&gt; | X55 &lt;chr&gt; | X57 &lt;chr&gt; | X59 &lt;chr&gt; | X61 &lt;chr&gt; | X62 &lt;chr&gt; |\n",
       "|---|---|---|---|---|---|---|---|---|---|---|---|---|---|---|---|---|---|---|---|---|\n",
       "| HDI Rank | Country     | 1990 | 1991 | 1992 | 1993 | 1994 | 1995 | 1996 | 1997 | ⋯ | 2011 | 2012 | 2013 | 2014 | 2015 | 2016 | 2017 | 2018 | 2019 | NA |\n",
       "| 169      | Afghanistan | 2.6  | 2.9  | 3.2  | 3.6  | 3.9  | 4.2  | 4.6  | 4.9  | ⋯ | 9.5  | 10.0 | 10.2 | 10.3 | 10.2 | 10.3 | 10.1 | 10.1 | 10.2 | a  |\n",
       "| 69       | Albania     | 11.6 | 11.8 | 10.7 | 10.1 | 10.1 | 10.2 | 10.2 | 10.5 | ⋯ | 13.7 | 14.6 | 14.9 | 15.3 | 15.1 | 14.8 | 14.8 | 14.7 | 14.7 | a  |\n",
       "| 91       | Algeria     | 9.6  | 9.7  | 9.8  | 9.8  | 9.9  | 9.8  | 10.0 | 10.3 | ⋯ | 14.3 | 13.9 | 13.6 | 14.0 | 14.2 | 14.2 | 14.4 | 14.5 | 14.6 | a  |\n",
       "| ⋮ | ⋮ | ⋮ | ⋮ | ⋮ | ⋮ | ⋮ | ⋮ | ⋮ | ⋮ | ⋱ | ⋮ | ⋮ | ⋮ | ⋮ | ⋮ | ⋮ | ⋮ | ⋮ | ⋮ | ⋮ |\n",
       "| 117 | Viet Nam | 7.8 | 8.1  | 8.4 | 8.7 | 9.0 | 9.3 | 9.6 | 9.0 | ⋯ | 12.5 | 12.6 | 12.6 | 12.7 | 12.7 | 12.7 | 12.7 | 12.7 | 12.7 | a,d |\n",
       "| 179 | Yemen    | 7.5 | 7.5  | 7.6 | 7.6 | 7.6 | 7.6 | 7.6 | 7.6 | ⋯ | 9.0  | 8.5  | 8.8  | 8.7  | 8.7  | 8.7  | 8.7  | 8.7  | 8.8  | a,d |\n",
       "| 146 | Zambia   | 7.5 | 7.7  | 8.0 | 8.2 | 8.4 | 8.7 | 8.9 | 9.1 | ⋯ | 10.9 | 10.9 | 11.0 | 11.0 | 11.1 | 11.2 | 11.3 | 11.4 | 11.5 | a,c |\n",
       "| 150 | Zimbabwe | 9.8 | 10.2 | 9.8 | 9.8 | 9.8 | 9.8 | 9.8 | 9.8 | ⋯ | 10.2 | 10.3 | 10.2 | 10.3 | 10.3 | 10.4 | 10.5 | 10.5 | 11.0 | a,h |\n",
       "\n"
      ],
      "text/plain": [
       "    X1       X2          X3   X5   X7   X9   X11  X13  X15  X17  ⋯ X45  X47 \n",
       "1   HDI Rank Country     1990 1991 1992 1993 1994 1995 1996 1997 ⋯ 2011 2012\n",
       "2   169      Afghanistan 2.6  2.9  3.2  3.6  3.9  4.2  4.6  4.9  ⋯ 9.5  10.0\n",
       "3   69       Albania     11.6 11.8 10.7 10.1 10.1 10.2 10.2 10.5 ⋯ 13.7 14.6\n",
       "4   91       Algeria     9.6  9.7  9.8  9.8  9.9  9.8  10.0 10.3 ⋯ 14.3 13.9\n",
       "⋮   ⋮        ⋮           ⋮    ⋮    ⋮    ⋮    ⋮    ⋮    ⋮    ⋮    ⋱ ⋮    ⋮   \n",
       "191 117      Viet Nam    7.8  8.1  8.4  8.7  9.0  9.3  9.6  9.0  ⋯ 12.5 12.6\n",
       "192 179      Yemen       7.5  7.5  7.6  7.6  7.6  7.6  7.6  7.6  ⋯ 9.0  8.5 \n",
       "193 146      Zambia      7.5  7.7  8.0  8.2  8.4  8.7  8.9  9.1  ⋯ 10.9 10.9\n",
       "194 150      Zimbabwe    9.8  10.2 9.8  9.8  9.8  9.8  9.8  9.8  ⋯ 10.2 10.3\n",
       "    X49  X51  X53  X55  X57  X59  X61  X62\n",
       "1   2013 2014 2015 2016 2017 2018 2019 NA \n",
       "2   10.2 10.3 10.2 10.3 10.1 10.1 10.2 a  \n",
       "3   14.9 15.3 15.1 14.8 14.8 14.7 14.7 a  \n",
       "4   13.6 14.0 14.2 14.2 14.4 14.5 14.6 a  \n",
       "⋮   ⋮    ⋮    ⋮    ⋮    ⋮    ⋮    ⋮    ⋮  \n",
       "191 12.6 12.7 12.7 12.7 12.7 12.7 12.7 a,d\n",
       "192 8.8  8.7  8.7  8.7  8.7  8.7  8.8  a,d\n",
       "193 11.0 11.0 11.1 11.2 11.3 11.4 11.5 a,c\n",
       "194 10.2 10.3 10.3 10.4 10.5 10.5 11.0 a,h"
      ]
     },
     "metadata": {},
     "output_type": "display_data"
    }
   ],
   "source": [
    "EYS_vs_HDI <- Expected_Years_of_Schooling_vs_HDI[, colSums(is.na(Expected_Years_of_Schooling_vs_HDI)) < nrow(Expected_Years_of_Schooling_vs_HDI)]\n",
    "\n",
    "#This was done to get rid of all the columns that had NA as values for all the rows.\n",
    "\n",
    "Invalid_Col <- c(\"X62\")\n",
    "\n",
    "#This was done to give the last column an object name so that it can be used in the following code:\n",
    "\n",
    "EYS_vs_HDI_NA_Drop = EYS_vs_HDI[,!(names(EYS_vs_HDI) %in% Invalid_Col)]\n",
    "\n",
    "EYS_vs_HDI_NA_Drop\n",
    "\n",
    "#The result of this code returns a dat frame with only 61 columns and no NA values."
   ]
  },
  {
   "cell_type": "markdown",
   "metadata": {},
   "source": [
    "Using the original, slightly altered data, we used a variation of functions which allowed us to get rid of any columns with NA values and also get rid of a column that had no relevance to our study. This column was omitted because it's values (letters) were used as a legend in the original data frame; we will not be using the legend in the analysis. "
   ]
  },
  {
   "cell_type": "code",
   "execution_count": 10,
   "metadata": {},
   "outputs": [
    {
     "data": {
      "text/html": [
       "<table>\n",
       "<caption>A tibble: 5484 × 2</caption>\n",
       "<thead>\n",
       "\t<tr><th scope=col>HDI_Rank</th><th scope=col>Average_Years_of_Schooling</th></tr>\n",
       "\t<tr><th scope=col>&lt;dbl&gt;</th><th scope=col>&lt;dbl&gt;</th></tr>\n",
       "</thead>\n",
       "<tbody>\n",
       "\t<tr><td>169</td><td>2.6</td></tr>\n",
       "\t<tr><td>169</td><td>2.9</td></tr>\n",
       "\t<tr><td>169</td><td>3.2</td></tr>\n",
       "\t<tr><td>169</td><td>3.6</td></tr>\n",
       "\t<tr><td>⋮</td><td>⋮</td></tr>\n",
       "\t<tr><td>150</td><td>10.4</td></tr>\n",
       "\t<tr><td>150</td><td>10.5</td></tr>\n",
       "\t<tr><td>150</td><td>10.5</td></tr>\n",
       "\t<tr><td>150</td><td>11.0</td></tr>\n",
       "</tbody>\n",
       "</table>\n"
      ],
      "text/latex": [
       "A tibble: 5484 × 2\n",
       "\\begin{tabular}{ll}\n",
       " HDI\\_Rank & Average\\_Years\\_of\\_Schooling\\\\\n",
       " <dbl> & <dbl>\\\\\n",
       "\\hline\n",
       "\t 169 & 2.6\\\\\n",
       "\t 169 & 2.9\\\\\n",
       "\t 169 & 3.2\\\\\n",
       "\t 169 & 3.6\\\\\n",
       "\t ⋮ & ⋮\\\\\n",
       "\t 150 & 10.4\\\\\n",
       "\t 150 & 10.5\\\\\n",
       "\t 150 & 10.5\\\\\n",
       "\t 150 & 11.0\\\\\n",
       "\\end{tabular}\n"
      ],
      "text/markdown": [
       "\n",
       "A tibble: 5484 × 2\n",
       "\n",
       "| HDI_Rank &lt;dbl&gt; | Average_Years_of_Schooling &lt;dbl&gt; |\n",
       "|---|---|\n",
       "| 169 | 2.6 |\n",
       "| 169 | 2.9 |\n",
       "| 169 | 3.2 |\n",
       "| 169 | 3.6 |\n",
       "| ⋮ | ⋮ |\n",
       "| 150 | 10.4 |\n",
       "| 150 | 10.5 |\n",
       "| 150 | 10.5 |\n",
       "| 150 | 11.0 |\n",
       "\n"
      ],
      "text/plain": [
       "     HDI_Rank Average_Years_of_Schooling\n",
       "1    169      2.6                       \n",
       "2    169      2.9                       \n",
       "3    169      3.2                       \n",
       "4    169      3.6                       \n",
       "⋮    ⋮        ⋮                         \n",
       "5481 150      10.4                      \n",
       "5482 150      10.5                      \n",
       "5483 150      10.5                      \n",
       "5484 150      11.0                      "
      ]
     },
     "metadata": {},
     "output_type": "display_data"
    }
   ],
   "source": [
    "EYS_vs_HDI_Col_ShiftUp<- EYS_vs_HDI_NA_Drop[-c(1),]\n",
    "#This was done to make the first row the column names\n",
    "\n",
    "EYS_vs_HDI_Colnames_Created <- c(\"HDI_Rank\",\"Name_of_Country\",\"1990\",\"1991\", \"1992\", \"1993\", \"1994\",\"1995\", \"1996\", \"1997\", \"1998\",\"1999\", \"2000\", \"2001\", \"2002\", \"2003\", \"2004\", \"2005\", \"2006\", \"2007\",  \"2008\", \"2009\", \"2010\", \"2011\", \"2012\", \"2013\", \"2014\", \"2015\",\"2016\", \"2017\", \"2018\", \"2019\")\n",
    "colnames(EYS_vs_HDI_Col_ShiftUp) <- EYS_vs_HDI_Colnames_Created\n",
    "#This was done to give the colums column names\n",
    "\n",
    "EYS_vs_HDI_Tidy <- pivot_longer(EYS_vs_HDI_Col_ShiftUp, cols = \"1990\":\"2019\",\n",
    "                 names_to = \"Years\",\n",
    "                values_to = \"Average_Years_of_Schooling\")%>%\n",
    "        select(\"HDI_Rank\", \"Name_of_Country\", \"Years\", \"Average_Years_of_Schooling\")%>%\n",
    "        filter(HDI_Rank != \"..\", Average_Years_of_Schooling != \"..\" )%>%\n",
    "        mutate(HDI_Rank = as.numeric(HDI_Rank))%>%\n",
    "        mutate(Average_Years_of_Schooling = as.numeric(Average_Years_of_Schooling))%>%\n",
    "                select(-Name_of_Country,-Years)\n",
    "EYS_vs_HDI_Tidy\n",
    "\n",
    "#This step tidies the data into 4 colums that all have one variable by making the data frame longer (from its wide original shape).\n",
    "#It allows for the exclusion of rows with \"..\" values\n",
    "#The HDI_Rank is changed into a numerical variable which allows for further analysis\n",
    "#The columns that do not contirbute to the analysis are also omitted."
   ]
  },
  {
   "cell_type": "code",
   "execution_count": null,
   "metadata": {},
   "outputs": [],
   "source": []
  },
  {
   "cell_type": "code",
   "execution_count": null,
   "metadata": {},
   "outputs": [],
   "source": [
    "EYS_vs_HDI_Tidy_Range_Classification <- EYS_vs_HDI_Tidy %>%\n",
    "                    mutate(ranges = cut(HDI_Rank,breaks = c(1, 66, 119, 156, 189),labels = c(\"Very_High\",\"High\",\"Medium\", \"Low\"), include.lowest = TRUE)) %>%\n",
    "                    group_by(ranges) %>%\n",
    "                    summarise(Number_of_rows= n())%>%\n",
    "                    rename(HDI_ranges = ranges)\n",
    "EYS_vs_HDI_Tidy_Range_Classification\n",
    "\n"
   ]
  },
  {
   "cell_type": "code",
   "execution_count": null,
   "metadata": {},
   "outputs": [],
   "source": [
    "EYS_vs_HDI_Split <- initial_split(EYS_vs_HDI_Tidy, prop = 0.75, strata = HDI_Rank)\n",
    "EYS_vs_HDI_Split\n",
    "\n",
    "EYS_vs_HDI_Train <- training(EYS_vs_HDI_Split)\n",
    "EYS_vs_HDI_Train\n",
    "\n",
    "EYS_vs_HDI_Test <- testing(EYS_vs_HDI_Split)\n",
    "\n",
    "EYS_vs_HDI_Tidy_Summary <- summary(EYS_vs_HDI_Train)\n",
    "EYS_vs_HDI_Tidy_Summary\n",
    "\n",
    "\n",
    "EYS_vs_HDI_Train_Count <- count(EYS_vs_HDI_Train)%>%\n",
    "                        rename(Number_of_Rows = n)\n",
    "EYS_vs_HDI_Train_Count"
   ]
  },
  {
   "cell_type": "code",
   "execution_count": null,
   "metadata": {},
   "outputs": [],
   "source": [
    "options(repr.plot.width=25, repr.plot.height=25)\n",
    "\n",
    "EYS_vs_HDI_Train_Plot <- EYS_vs_HDI_Train %>%\n",
    "                    ggplot(aes(x = Average_Years_of_Schooling, y = HDI_Rank))+\n",
    "                    geom_point()+\n",
    "                    geom_smooth(method = \"lm\")+\n",
    "                    labs(x= \"Level of Education of an Individual (Average Years of Schooling)\" , y = \"HDI Rank of a Country (1 to 189)\")+\n",
    "                    ggtitle(\"The Correlation between the Level of Education (Average Years of Schooling) \\n and the HDI Rank of a Country (1 to 189)\")+\n",
    "                    theme(axis.text.x = element_text(angle = 90, , hjust = 1),\n",
    "                        text = element_text(size= 20))+\n",
    "                    theme(plot.title = element_text(hjust = 0.5)) +\n",
    "                    scale_x_continuous(expand = c(0,0), limits = c(0, NA))+\n",
    "                    scale_y_continuous(expand = c(0,0), limits = c(0, NA))\n",
    "EYS_vs_HDI_Train_Plot\n",
    "#This plots our graph for exploratory analysis"
   ]
  },
  {
   "cell_type": "code",
   "execution_count": null,
   "metadata": {},
   "outputs": [],
   "source": [
    "# DONT TOUCH TESTING TILL THE END\n",
    "#TESTING DATA THEN STRAIGHT TO RESULTS\n",
    "#we have to base our choices on the training data, NOT the testing data."
   ]
  },
  {
   "cell_type": "code",
   "execution_count": null,
   "metadata": {},
   "outputs": [],
   "source": [
    "lm_spec <- linear_reg() %>%\n",
    "           set_engine(\"lm\") %>%\n",
    "           set_mode(\"regression\")\n",
    "lm_spec\n",
    "\n",
    "lm_recipe <- recipe(HDI_Rank ~ Average_Years_of_Schooling, data = EYS_vs_HDI_Train)\n",
    "\n",
    "lm_fit <- workflow() %>%\n",
    "          add_recipe(lm_recipe) %>%\n",
    "          add_model(lm_spec) %>%\n",
    "          fit(data = EYS_vs_HDI_Train)\n",
    "lm_fit"
   ]
  },
  {
   "cell_type": "code",
   "execution_count": null,
   "metadata": {},
   "outputs": [],
   "source": [
    "lm_predictions <- EYS_vs_HDI_Train %>%\n",
    "    ggplot(aes(x = Average_Years_of_Schooling, y = HDI_Rank)) +\n",
    "        geom_point(alpha = 0.25, size = 2) +\n",
    "        geom_smooth(method = \"lm\", se = FALSE) +\n",
    "        labs(x= \"Level of Education of an Individual (Average Years of Schooling)\" , y = \"HDI Rank of a Country (1 to 189)\")+\n",
    "                    ggtitle(\"The Correlation between the Level of Education (Average Years of Schooling) \\n and the HDI Rank of a Country (1 to 189)\")+\n",
    "                    theme(axis.text.x = element_text(angle = 90, , hjust = 1),\n",
    "                        text = element_text(size= 20))+\n",
    "                    theme(plot.title = element_text(hjust = 0.5)) +\n",
    "                    scale_x_continuous(expand = c(0,0), limits = c(0, NA))+\n",
    "                    scale_y_continuous(expand = c(0,0), limits = c(0, NA))\n",
    "lm_predictions"
   ]
  },
  {
   "cell_type": "code",
   "execution_count": null,
   "metadata": {},
   "outputs": [],
   "source": [
    "\n",
    "lm_test_results <- lm_fit %>%\n",
    "                    predict(EYS_vs_HDI_Test) %>%\n",
    "                    bind_cols(EYS_vs_HDI_Test) %>%\n",
    "                    metrics(truth = HDI_Rank, estimate = .pred)\n",
    "\n",
    "lm_rmse <- lm_fit %>%\n",
    "                predict(EYS_vs_HDI_Train) %>%\n",
    "                bind_cols(EYS_vs_HDI_Train) %>%\n",
    "                metrics(truth = HDI_Rank, estimate = .pred) %>%\n",
    "                filter(.metric == 'rmse') %>%\n",
    "                select(.estimate) %>%\n",
    "                pull()\n",
    "\n",
    "lm_rmspe <- lm_test_results %>%\n",
    "                filter(.metric == 'rmse') %>%\n",
    "                select(.estimate) %>%\n",
    "                pull()\n",
    "\n",
    "lm_rmspe"
   ]
  },
  {
   "cell_type": "code",
   "execution_count": null,
   "metadata": {},
   "outputs": [],
   "source": [
    "EYS_vs_HDI_spec <- nearest_neighbor(weight_func = \"rectangular\", neighbors = tune()) %>%\n",
    "                 set_engine(\"kknn\") %>%\n",
    "                 set_mode(\"regression\")\n",
    "\n",
    "EYS_vs_HDI_recipe <- recipe(HDI_Rank ~ Average_Years_of_Schooling, data = EYS_vs_HDI_Train) %>%\n",
    "                   step_scale(all_predictors()) %>%\n",
    "                   step_center(all_predictors())\n",
    "EYS_vs_HDI_recipe"
   ]
  },
  {
   "cell_type": "code",
   "execution_count": null,
   "metadata": {},
   "outputs": [],
   "source": [
    "EYS_vs_HDI_vfold <- vfold_cv(EYS_vs_HDI_Train, v = 5, strata = HDI_Rank)\n",
    "\n",
    "EYS_vs_HDI_workflow <- workflow() %>%\n",
    "                     add_recipe(EYS_vs_HDI_recipe) %>%\n",
    "                     add_model(EYS_vs_HDI_spec)\n",
    "EYS_vs_HDI_workflow"
   ]
  },
  {
   "cell_type": "code",
   "execution_count": null,
   "metadata": {},
   "outputs": [],
   "source": [
    "gridvals <- tibble(neighbors = seq(1, 200))\n",
    "\n",
    "EYS_vs_HDI_results <- EYS_vs_HDI_workflow %>%\n",
    "                        tune_grid(resamples = EYS_vs_HDI_vfold, grid = gridvals) %>%\n",
    "                        collect_metrics()\n",
    "EYS_vs_HDI_results"
   ]
  },
  {
   "cell_type": "code",
   "execution_count": null,
   "metadata": {},
   "outputs": [],
   "source": [
    "EYS_vs_HDI_min <- EYS_vs_HDI_results %>%\n",
    "    filter(.metric == \"rmse\") %>%\n",
    "    arrange(mean)  %>% \n",
    "    slice(1)\n",
    "EYS_vs_HDI_min\n",
    "\n",
    "k_min <- EYS_vs_HDI_min %>%\n",
    "            pull(neighbors)"
   ]
  },
  {
   "cell_type": "code",
   "execution_count": null,
   "metadata": {},
   "outputs": [],
   "source": [
    "EYS_vs_HDI_best_spec <- nearest_neighbor(weight_func = \"rectangular\", neighbors = k_min) %>%\n",
    "                            set_engine(\"kknn\") %>%\n",
    "                            set_mode(\"regression\")\n",
    "\n",
    "EYS_vs_HDI_best_fit <- workflow() %>%\n",
    "                        add_recipe(EYS_vs_HDI_recipe) %>%\n",
    "                        add_model(EYS_vs_HDI_best_spec) %>%\n",
    "                        fit(data = EYS_vs_HDI_Train)\n",
    "\n",
    "EYS_vs_HDI_summary <- EYS_vs_HDI_best_fit %>% \n",
    "                       predict(EYS_vs_HDI_Train) %>%\n",
    "                       bind_cols(EYS_vs_HDI_Train) %>%\n",
    "                       metrics(truth = HDI_Rank, estimate = .pred) \n",
    "EYS_vs_HDI_summary"
   ]
  },
  {
   "cell_type": "code",
   "execution_count": null,
   "metadata": {},
   "outputs": [],
   "source": [
    "options(repr.plot.width = 7, repr.plot.height = 7)\n",
    "\n",
    "EYS_vs_HDI_preds <- EYS_vs_HDI_best_fit %>%\n",
    "                predict(EYS_vs_HDI_Train) %>%\n",
    "                bind_cols(EYS_vs_HDI_Train)\n",
    "EYS_vs_HDI_plot <- ggplot(EYS_vs_HDI_preds, aes(x = Average_Years_of_Schooling, y = HDI_Rank)) +\n",
    "            geom_point(alpha = 0.4) +\n",
    "            labs(x= \"Level of Education of an Individual (Average Years of Schooling)\" , y = \"HDI Rank of a Country (1 to 189)\")+ \n",
    "            geom_line(data = EYS_vs_HDI_preds, aes(x = Average_Years_of_Schooling, y = .pred), color = \"blue\") +\n",
    "            ggtitle(paste0(\"K = \", k_min)) +\n",
    "            theme(text = element_text(size = 20))\n",
    "EYS_vs_HDI_plot"
   ]
  },
  {
   "cell_type": "code",
   "execution_count": null,
   "metadata": {},
   "outputs": [],
   "source": [
    "# Break up the code cells\n",
    "# pick one with smalle error on training data\n",
    "# tutorial 7?\n"
   ]
  }
 ],
 "metadata": {
  "kernelspec": {
   "display_name": "R",
   "language": "R",
   "name": "ir"
  },
  "language_info": {
   "codemirror_mode": "r",
   "file_extension": ".r",
   "mimetype": "text/x-r-source",
   "name": "R",
   "pygments_lexer": "r",
   "version": "4.0.0"
  }
 },
 "nbformat": 4,
 "nbformat_minor": 4
}
