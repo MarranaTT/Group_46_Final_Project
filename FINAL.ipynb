{
 "cells": [
  {
   "cell_type": "code",
   "execution_count": null,
   "metadata": {},
   "outputs": [],
   "source": [
    "set.seed(624) #ONLY WRITE THIS ONCE\n",
    "\n",
    "library(tidyverse)\n",
    "library(dplyr)\n",
    "library(repr)\n",
    "library(tidymodels)\n",
    "library(repr)\n",
    "library(tidymodels)\n",
    "\n",
    "# Libraries with functions needed are loaded and the seed is set to allow for the analysis to be reproducible"
   ]
  },
  {
   "cell_type": "code",
   "execution_count": null,
   "metadata": {},
   "outputs": [],
   "source": [
    "options(repr.matrix.max.rows= 8)\n",
    "\n",
    "Expected_Years_of_Schooling_vs_HDI<- read_tsv(\"https://raw.githubusercontent.com/MarranaTT/Group_46_Final_Project/main/Expected_years%20of%20schooling_(years).tsv\",\n",
    "    col_names = FALSE, skip =6)%>%\n",
    "    slice(1:(n()-9))%>%\n",
    "        select(X1:X62)%>%\n",
    "        filter(X1 != \"NA\")\n",
    "Expected_Years_of_Schooling_vs_HDI\n",
    "\n",
    "\n",
    "#The raw data was read in, and edited so that it had a structure from which we could start to make it tidy. \n",
    "# The data alterations included skipping/getting rid of rows, choosing only certain columns, \n",
    "# an excluding any values that were not pertinent to our analysis."
   ]
  },
  {
   "cell_type": "markdown",
   "metadata": {},
   "source": [
    "The data table presented above is the result of reading in our HDI and Years of Schooling Data from the respective data source. The data is not tidy because although each value is a single cell, each row is not a single observation and each column is not a single variable. \n",
    "\n",
    "The col_names argument was given the logical statement FALSE as there are no column names in the original dataframe. The last 9 rows were then omitted using the slice function, which was followed by selecting the first 62 columns of the dataframe, and then deleting any NA values found within the first row since this will ensure that only country names are found in the first row (no invalid \"values\"). "
   ]
  },
  {
   "cell_type": "code",
   "execution_count": null,
   "metadata": {},
   "outputs": [],
   "source": [
    "EYS_vs_HDI <- Expected_Years_of_Schooling_vs_HDI[, colSums(is.na(Expected_Years_of_Schooling_vs_HDI)) < nrow(Expected_Years_of_Schooling_vs_HDI)]\n",
    "\n",
    "#This was done to get rid of all the columns that had NA as values for all the rows.\n",
    "\n",
    "Invalid_Col <- c(\"X62\")\n",
    "\n",
    "#This was done to give the last column an object name so that it can be used in the following code:\n",
    "\n",
    "EYS_vs_HDI_NA_Drop = EYS_vs_HDI[,!(names(EYS_vs_HDI) %in% Invalid_Col)]\n",
    "\n",
    "EYS_vs_HDI_NA_Drop\n",
    "\n",
    "#The result of this code returns a data frame with only 61 columns and no NA values."
   ]
  },
  {
   "cell_type": "markdown",
   "metadata": {},
   "source": [
    "Using the original, slightly altered data, we used a variation of functions which allowed us to get rid of any columns with NA values and also get rid of a column that had no relevance to our study. This column was omitted because it's values (letters) were used as a legend in the original data frame; we will not be using the legend in the analysis. "
   ]
  },
  {
   "cell_type": "code",
   "execution_count": null,
   "metadata": {},
   "outputs": [],
   "source": [
    "EYS_vs_HDI_Col_ShiftUp<- EYS_vs_HDI_NA_Drop[-c(1),]\n",
    "#This was done to make the first row the column names\n",
    "\n",
    "EYS_vs_HDI_Colnames_Created <- c(\"HDI_Rank\",\"Name_of_Country\",\"1990\",\"1991\", \"1992\", \"1993\", \"1994\",\"1995\", \"1996\", \"1997\", \"1998\",\"1999\", \"2000\", \"2001\", \"2002\", \"2003\", \"2004\", \"2005\", \"2006\", \"2007\",  \"2008\", \"2009\", \"2010\", \"2011\", \"2012\", \"2013\", \"2014\", \"2015\",\"2016\", \"2017\", \"2018\", \"2019\")\n",
    "colnames(EYS_vs_HDI_Col_ShiftUp) <- EYS_vs_HDI_Colnames_Created\n",
    "#This was done to give the columns column names\n",
    "\n",
    "EYS_vs_HDI_Tidy <- pivot_longer(EYS_vs_HDI_Col_ShiftUp, cols = \"1990\":\"2019\",\n",
    "                 names_to = \"Years\",\n",
    "                values_to = \"Average_Years_of_Schooling\")%>%\n",
    "        select(\"HDI_Rank\", \"Name_of_Country\", \"Years\", \"Average_Years_of_Schooling\")%>%\n",
    "        filter(HDI_Rank != \"..\", Average_Years_of_Schooling != \"..\" )%>%\n",
    "        mutate(HDI_Rank = as.numeric(HDI_Rank))%>%\n",
    "        mutate(Average_Years_of_Schooling = as.numeric(Average_Years_of_Schooling))%>%\n",
    "                select(-Name_of_Country,-Years)\n",
    "EYS_vs_HDI_Tidy\n",
    "\n",
    "#This step tidies the data into 2 columns (each one represents a variable) by making the data frame longer \n",
    "#(from its wide original shape).\n",
    "#It allows for the exclusion of rows with \"..\" values\n",
    "#The HDI_Rank is changed into a numerical variable which allows for further analysis.\n",
    "#The columns that do not contribute to the analysis are also omitted."
   ]
  },
  {
   "cell_type": "markdown",
   "metadata": {},
   "source": [
    "The data is now in a tidy format from which further analysis can be conducted. The resulting table has two columns: the first one being the dependent variable HDI Rank of a country as per UNDP (United Nations Development Programme) records, and the corresponding Average Years of schooling which is the independent variable of this analysis. Both of the columns are numerical values which allows for them to be visualized using a scatter plot. Additionally the three conditions for tidy data are met: each row is a single observation, each column is a single variable, and each value is a single cell."
   ]
  },
  {
   "cell_type": "code",
   "execution_count": null,
   "metadata": {},
   "outputs": [],
   "source": [
    "EYS_vs_HDI_Tidy_Range_Classification <- EYS_vs_HDI_Tidy %>%\n",
    "                    mutate(ranges = cut(HDI_Rank,breaks = c(1, 66, 119, 156, 189),labels = c(\"Very_High\",\"High\",\"Medium\", \"Low\"), include.lowest = TRUE)) %>%\n",
    "                    group_by(ranges) %>%\n",
    "                    summarise(Number_of_rows= n())%>%\n",
    "                    rename(HDI_ranges = ranges)\n",
    "EYS_vs_HDI_Tidy_Range_Classification\n",
    "\n",
    "#Counts the number of rows (count of HDI ranks) that have a specific value within a given range. "
   ]
  },
  {
   "cell_type": "markdown",
   "metadata": {},
   "source": [
    "The resulting table groups the original data of HDI ranks into four ranges: very high, high, medium and low. It counts the number of rows with a specific HDI value that falls into the ranges which we created based on research. These ranges contribute to our understanding of the distribution of the data."
   ]
  },
  {
   "cell_type": "code",
   "execution_count": null,
   "metadata": {},
   "outputs": [],
   "source": [
    "EYS_vs_HDI_Split <- initial_split(EYS_vs_HDI_Tidy, prop = 0.75, strata = HDI_Rank)\n",
    "EYS_vs_HDI_Split\n",
    "\n",
    "EYS_vs_HDI_Train <- training(EYS_vs_HDI_Split)\n",
    "EYS_vs_HDI_Train\n",
    "\n",
    "EYS_vs_HDI_Test <- testing(EYS_vs_HDI_Split)\n",
    "# The tidy data is split into training and testing sets so that regression models may be applied.\n",
    "\n",
    "EYS_vs_HDI_Tidy_Summary <- summary(EYS_vs_HDI_Train)\n",
    "EYS_vs_HDI_Tidy_Summary\n",
    "\n",
    "# The summary results in a table that includes important information about the variables including the median and mean.\n",
    "\n",
    "EYS_vs_HDI_Train_Count <- count(EYS_vs_HDI_Train)%>%\n",
    "                        rename(Number_of_Observations = n)\n",
    "EYS_vs_HDI_Train_Count\n",
    "\n",
    "# This counts the rows in the training data so that we know how many observations we have for the analysis."
   ]
  },
  {
   "cell_type": "markdown",
   "metadata": {},
   "source": [
    "The information presented by the tables above furthers the statistical meaning of the data that was initially shown by grouping it into the four ranges. Using the mean and the median, a histogram could be created to explore in more detail the distribution, however this is not beneficial to our analysis. Regardless, it is important to acknowledge it. "
   ]
  },
  {
   "cell_type": "code",
   "execution_count": null,
   "metadata": {},
   "outputs": [],
   "source": [
    "options(repr.plot.width=24, repr.plot.height=24)\n",
    "\n",
    "EYS_vs_HDI_Train_Plot <- EYS_vs_HDI_Train %>%\n",
    "                    ggplot(aes(x = Average_Years_of_Schooling, y = HDI_Rank))+\n",
    "                    geom_point()+\n",
    "                    labs(x= \"Level of Education of an Individual (Average Years of Schooling)\" , y = \"HDI Rank of a Country (1 to 189)\")+\n",
    "                    ggtitle(\"The Correlation between the Level of Education (Average Years of Schooling) \\n and the HDI Rank of a Country (1 to 189)\")+\n",
    "                    theme(axis.text.x = element_text(angle = 90, , hjust = 1),\n",
    "                        text = element_text(size= 20))+\n",
    "                    theme(plot.title = element_text(hjust = 0.5)) +\n",
    "                    scale_x_continuous(expand = c(0,0), limits = c(0, NA))+\n",
    "                    scale_y_continuous(expand = c(0,0), limits = c(0, NA))\n",
    "EYS_vs_HDI_Train_Plot\n",
    "\n",
    "# This plots HDI ranks (y-axis) and Average Years of Schooling (x-axis) for exploratory analysis. "
   ]
  },
  {
   "cell_type": "code",
   "execution_count": null,
   "metadata": {},
   "outputs": [],
   "source": [
    "lm_spec <- linear_reg() %>%\n",
    "           set_engine(\"lm\") %>%\n",
    "           set_mode(\"regression\")\n",
    "lm_spec\n",
    "\n",
    "# Sets the linear regression model specification.\n",
    "\n",
    "lm_recipe <- recipe(HDI_Rank ~ Average_Years_of_Schooling, data = EYS_vs_HDI_Train)\n",
    "\n",
    "lm_fit <- workflow() %>%\n",
    "          add_recipe(lm_recipe) %>%\n",
    "          add_model(lm_spec) %>%\n",
    "          fit(data = EYS_vs_HDI_Train)\n",
    "lm_fit\n",
    "\n",
    "# Creates recipe, establishes a workflow analysis and fits the linear regression model for our training dataset. \n",
    "# The equation of the line of best fit can be found based on this step of the data analysis (using Coefficients)."
   ]
  },
  {
   "cell_type": "code",
   "execution_count": null,
   "metadata": {},
   "outputs": [],
   "source": [
    "lm_predictions <- EYS_vs_HDI_Train %>%\n",
    "    ggplot(aes(x = Average_Years_of_Schooling, y = HDI_Rank)) +\n",
    "        geom_point() +          \n",
    "        geom_smooth(method = \"lm\", se = FALSE) +\n",
    "        labs(x= \"Level of Education of an Individual (Average Years of Schooling)\" , y = \"HDI Rank of a Country (1 to 189)\")+\n",
    "                    ggtitle(\"The Correlation between the Level of Education (Average Years of Schooling) \\n and the HDI Rank of a Country (1 to 189)\")+\n",
    "                    theme(axis.text.x = element_text(angle = 90, , hjust = 1),\n",
    "                        text = element_text(size= 20))+\n",
    "                    theme(plot.title = element_text(hjust = 0.5)) +\n",
    "                    scale_x_continuous(expand = c(0,0), limits = c(0, NA))+\n",
    "                    scale_y_continuous(expand = c(0,0), limits = c(0, NA))\n",
    "lm_predictions\n",
    "# This plots HDI ranks (y-axis) and average year of schooling (x-axis) to visualize the model prediction \n",
    "# as a straight line overlaid on the training dataset. It can be used in the further comparison with knn regression model. "
   ]
  },
  {
   "cell_type": "code",
   "execution_count": null,
   "metadata": {},
   "outputs": [],
   "source": [
    "# Extracts the RMPSE value from the table and returns a single numerical value.\n",
    "\n",
    "lm_rmse <- lm_fit %>%\n",
    "                predict(EYS_vs_HDI_Train) %>%\n",
    "                bind_cols(EYS_vs_HDI_Train) %>%\n",
    "                metrics(truth = HDI_Rank, estimate = .pred) %>%\n",
    "                filter(.metric == 'rmse') %>%\n",
    "                select(.estimate) %>%\n",
    "                pull()\n",
    "lm_rmse\n",
    "\n"
   ]
  },
  {
   "cell_type": "code",
   "execution_count": null,
   "metadata": {},
   "outputs": [],
   "source": [
    "EYS_vs_HDI_spec <- nearest_neighbor(weight_func = \"rectangular\", neighbors = tune()) %>%\n",
    "                 set_engine(\"kknn\") %>%\n",
    "                 set_mode(\"regression\")\n",
    "\n",
    "# Sets the knn regression model specification.\n",
    "\n",
    "EYS_vs_HDI_recipe <- recipe(HDI_Rank ~ Average_Years_of_Schooling, data = EYS_vs_HDI_Train) %>%\n",
    "                   step_scale(all_predictors()) %>%\n",
    "                   step_center(all_predictors())\n",
    "EYS_vs_HDI_recipe\n",
    "\n",
    "# Creates a recipe (HDI rank as the response variable and average year of schooling as the predictor) to preprocess our training data."
   ]
  },
  {
   "cell_type": "code",
   "execution_count": null,
   "metadata": {},
   "outputs": [],
   "source": [
    "EYS_vs_HDI_vfold <- vfold_cv(EYS_vs_HDI_Train, v = 5, strata = HDI_Rank)\n",
    "\n",
    "EYS_vs_HDI_workflow <- workflow() %>%\n",
    "                     add_recipe(EYS_vs_HDI_recipe) %>%\n",
    "                     add_model(EYS_vs_HDI_spec)\n",
    "EYS_vs_HDI_workflow\n",
    "\n",
    "# Performs a cross-validation with five folds, establishes a workflow analysis and fits the knn regression model for our training dataset."
   ]
  },
  {
   "cell_type": "code",
   "execution_count": null,
   "metadata": {},
   "outputs": [],
   "source": [
    "gridvals <- tibble(neighbors = seq(1, 200))\n",
    "\n",
    "# Creates a tibble with a sequence of values from 1 to 200 for running the cross validation.\n",
    "\n",
    "EYS_vs_HDI_results <- EYS_vs_HDI_workflow %>%\n",
    "                        tune_grid(resamples = EYS_vs_HDI_vfold, grid = gridvals) %>%\n",
    "                        collect_metrics()\n",
    "EYS_vs_HDI_results\n",
    "\n",
    "# The resulting table contains important statistics such as k values ('neighbors' column), RMSPE values ('mean' column) \n",
    "# and the standard error which reflects how uncertain we are in the mean value.\n",
    "\n"
   ]
  },
  {
   "cell_type": "code",
   "execution_count": null,
   "metadata": {},
   "outputs": [],
   "source": [
    "EYS_vs_HDI_min <- EYS_vs_HDI_results %>%\n",
    "    filter(.metric == \"rmse\") %>%\n",
    "    arrange(mean)  %>% \n",
    "    slice(1)\n",
    "EYS_vs_HDI_min\n",
    "\n",
    "# Finds the minimum RMSPE value to help us to find the best setting for the number of neighbors.\n",
    "\n",
    "k_min <- EYS_vs_HDI_min %>%\n",
    "            pull(neighbors)\n",
    "\n",
    "# Extracts the best neighbors value."
   ]
  },
  {
   "cell_type": "code",
   "execution_count": null,
   "metadata": {},
   "outputs": [],
   "source": [
    "EYS_vs_HDI_best_spec <- nearest_neighbor(weight_func = \"rectangular\", neighbors = k_min) %>%\n",
    "                            set_engine(\"kknn\") %>%\n",
    "                            set_mode(\"regression\")\n",
    "\n",
    "# Sets the knn regression model specification with k_min.\n",
    "\n",
    "EYS_vs_HDI_best_fit <- workflow() %>%\n",
    "                        add_recipe(EYS_vs_HDI_recipe) %>%\n",
    "                        add_model(EYS_vs_HDI_best_spec) %>%\n",
    "                        fit(data = EYS_vs_HDI_Train)\n",
    "\n",
    "# Establishes a workflow analysis with the new model specification and fits the knn regression model for our training dataset.\n",
    "\n",
    "EYS_vs_HDI_summary <- EYS_vs_HDI_best_fit %>% \n",
    "                       predict(EYS_vs_HDI_Train) %>%\n",
    "                       bind_cols(EYS_vs_HDI_Train) %>%\n",
    "                       metrics(truth = HDI_Rank, estimate = .pred)\n",
    "EYS_vs_HDI_summary\n",
    "\n",
    "knn_rmse <- EYS_vs_HDI_summary %>%\n",
    "                filter(.metric == 'rmse') %>%\n",
    "                select(.estimate) %>%\n",
    "                pull()\n",
    "\n",
    "knn_rmse"
   ]
  },
  {
   "cell_type": "code",
   "execution_count": null,
   "metadata": {},
   "outputs": [],
   "source": [
    "EYS_vs_HDI_summary_2 <- EYS_vs_HDI_best_fit %>% \n",
    "                       predict(EYS_vs_HDI_Test) %>%\n",
    "                       bind_cols(EYS_vs_HDI_Test) %>%\n",
    "                       metrics(truth = HDI_Rank, estimate = .pred)\n",
    "EYS_vs_HDI_summary_2\n",
    "\n",
    "knn_rmpse <- EYS_vs_HDI_summary_2 %>%\n",
    "                filter(.metric == 'rmse') %>%\n",
    "                select(.estimate) %>%\n",
    "                pull()\n",
    "\n",
    "knn_rmpse"
   ]
  },
  {
   "cell_type": "code",
   "execution_count": null,
   "metadata": {},
   "outputs": [],
   "source": [
    "options(repr.plot.width = 20, repr.plot.height = 20)\n",
    "\n",
    "\n",
    "EYS_vs_HDI_plot <- ggplot(EYS_vs_HDI_Test, aes(x = Average_Years_of_Schooling, y = HDI_Rank)) +\n",
    "            geom_point(alpha = 0.4) +\n",
    "            labs(x= \"Level of Education of an Individual (Average Years of Schooling)\" , y = \"HDI Rank of a Country (1 to 189)\")+ \n",
    "            geom_line(data = EYS_vs_HDI_preds, aes(x = Average_Years_of_Schooling, y = .pred), color = \"blue\") +\n",
    "            ggtitle(paste0(\"K = \", k_min)) +\n",
    "            theme(text = element_text(size = 20))\n",
    "EYS_vs_HDI_plot"
   ]
  }
 ],
 "metadata": {
  "kernelspec": {
   "display_name": "R",
   "language": "R",
   "name": "ir"
  },
  "language_info": {
   "codemirror_mode": "r",
   "file_extension": ".r",
   "mimetype": "text/x-r-source",
   "name": "R",
   "pygments_lexer": "r",
   "version": "4.0.0"
  }
 },
 "nbformat": 4,
 "nbformat_minor": 4
}
